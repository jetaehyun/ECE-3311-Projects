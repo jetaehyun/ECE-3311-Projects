{
 "cells": [
  {
   "cell_type": "code",
   "execution_count": 1,
   "metadata": {},
   "outputs": [],
   "source": [
    "import numpy as np\n",
    "import matplotlib.pyplot as plt"
   ]
  },
  {
   "cell_type": "code",
   "execution_count": 2,
   "metadata": {},
   "outputs": [
    {
     "name": "stdout",
     "output_type": "stream",
     "text": [
      "4\n",
      "2\n",
      "6\n",
      "9\n",
      "<class 'str'>\n",
      "3\n"
     ]
    }
   ],
   "source": [
    "# Datatypes\n",
    "\n",
    "# The Text data type \n",
    "# str\n",
    "x_1 = \"Hello Class!\"\n",
    "\n",
    "# The Numeric Types\n",
    "# int\n",
    "x_2 = 3311          \n",
    "#float\n",
    "x_3 = 3311.5\n",
    "#complex\n",
    "x_4 = 3311 + 1j\n",
    "\n",
    "\n",
    "# The Sequence Types \n",
    "#list\n",
    "x_4 = [\"3311\", \"3311.5\", \"3311 + 1j\"]\n",
    "#tuple\n",
    "x_5 = (\"3311\", \"3311.5\", \"3311 + 1j\")\n",
    "#range\n",
    "x_6 = range(6)\n",
    "\n",
    "# Basic operations\n",
    "x = 3\n",
    "print(x + 1)   # Addition; prints \"4\"\n",
    "print(x - 1)   # Subtraction; prints \"2\"\n",
    "print(x * 2)   # Multiplication; prints \"6\"\n",
    "print(x ** 2)  # Exponentiation; prints \"9\"\n",
    "\n",
    "# Print the type ofthe variable x_1 \n",
    "print(type(x_1))\n",
    "# You can also print the legnth of a list/tuple using\n",
    "print(len(x_4))"
   ]
  },
  {
   "cell_type": "code",
   "execution_count": 4,
   "metadata": {},
   "outputs": [],
   "source": [
    "# For Loops in python \n",
    "\n",
    "# Here are 3 different ways you can use for loops in python\n",
    "# Say we need a for loop to loop over 0, 0.1, 0.2, ..., 1 and store them in a list called value\n",
    "\n",
    "\n",
    "values = []               # initialize an empty list\n",
    "for i in range(10):\n",
    "    values.append(i*0.1)  # appending values to the empty list\n",
    "\n",
    "# Shorter version using list comprehension (same as the loop above)\n",
    "values = [i*0.1 for i in range(11)]\n",
    "\n",
    "for value in values:\n",
    "    # DO something with \"value\"\n",
    "    # Something like\n",
    "    value = value + 1\n"
   ]
  },
  {
   "cell_type": "code",
   "execution_count": 5,
   "metadata": {},
   "outputs": [
    {
     "name": "stdout",
     "output_type": "stream",
     "text": [
      "negative\n",
      "zero\n",
      "positive\n"
     ]
    }
   ],
   "source": [
    "# Functions in python\n",
    "\n",
    "# The basic structure of function in python goes as follows\n",
    "def func(x1, x2, x3):\n",
    "    #  Function name: func  , Input params: x1, x2, x3\n",
    "     \n",
    "    # ...... processing .........\n",
    "    \n",
    "    # return variable r \n",
    "    return r\n",
    "\n",
    "\n",
    "# Here is an example function ( combines loops and conditions)\n",
    "\n",
    "def sign(x):\n",
    "    if x > 0:\n",
    "        return 'positive'\n",
    "    elif x < 0:\n",
    "        return 'negative'\n",
    "    else:\n",
    "        return 'zero'\n",
    "\n",
    "for x in [-1, 0, 1]:\n",
    "    print(sign(x))\n",
    "    "
   ]
  },
  {
   "cell_type": "code",
   "execution_count": 6,
   "metadata": {},
   "outputs": [
    {
     "name": "stdout",
     "output_type": "stream",
     "text": [
      "['3311' '3311.5' '3311 + 1j']\n",
      "<class 'numpy.ndarray'>\n",
      "int64\n",
      "float64\n",
      "int64\n",
      "[[1. 2. 3. 4. 5. 6. 7. 8. 9.]]\n",
      "[[-1.  0.  1.  2.  3.  4.  5.  6.  7.]]\n",
      "[[0. 1. 2. 3. 4. 5. 6. 7. 8.]]\n",
      "[[0. 1. 2. 3. 4. 5. 6. 7. 8.]]\n"
     ]
    }
   ],
   "source": [
    "#  Numpy\n",
    "\n",
    "#We can convert any list into  a numpy array using\n",
    "x = np.array(x_4)   # remember that x_4 is a list \n",
    "print(x)\n",
    "print(type(x))\n",
    "\n",
    "# Create n-dimensional arrays of zeros and ones using \n",
    "zeros_arr = np.zeros((1,7))     # creates a 1D array of zeros with 1 row and  coloumns\n",
    "ones_arr = np.ones((3,3))       # creates a 2D array of Ones with  3 rows and 3 coloumns\n",
    "\n",
    "\n",
    "# Data types in Numpy\n",
    "x = np.array([1, 2])       # Let numpy choose the datatype\n",
    "print(x.dtype)             # Prints \"int64\"\n",
    "\n",
    "x = np.array([1.0, 2.0])   # Let numpy choose the datatype\n",
    "print(x.dtype)             # Prints \"float64\"\n",
    "\n",
    "x = np.array([1, 2], dtype=np.int64)   # Force a particular datatype --> aslo called type casting\n",
    "print(x.dtype)                         # Prints \"int64\"\n",
    "\n",
    "\n",
    "# Basic elementwise operations using numpy arrays\n",
    "x = np.arange(9)\n",
    "y = np.ones((1,9))\n",
    "\n",
    "print(np.add(x, y))        # Elementwise sum\n",
    "print(np.subtract(x, y))   # Elementwise difference\n",
    "print(np.multiply(x, y))   # Elementwise product\n",
    "print(np.divide(x, y))     # Elementwise division\n"
   ]
  },
  {
   "cell_type": "code",
   "execution_count": 7,
   "metadata": {},
   "outputs": [
    {
     "name": "stdout",
     "output_type": "stream",
     "text": [
      "[ 0.  0.  1.  0. -1.  0. -1.  0.  1.  0.  0.]\n"
     ]
    }
   ],
   "source": [
    "# Convolution \n",
    "\n",
    "\n",
    "# The Naive way, using for loop\n",
    "# Design a function which computes linear convolution of two signals (f and g) and returns the convolved output\n",
    "\n",
    "def direct_conv(f,g):\n",
    "    N1 = len(f)\n",
    "    N2 = len(g)\n",
    "    N = N1 + N2 - 1\n",
    "    \n",
    "    #place holder for the output\n",
    "    y = np.zeros(N)\n",
    "    \n",
    "    m = N-N1\n",
    "    n = N-N2    \n",
    "    #Padding zeros to x and h to make their length to N\n",
    "    f =np.pad(f,(0,m),'constant')\n",
    "    g =np.pad(g,(0,n),'constant')\n",
    "\n",
    "    #Linear convolution using convolution sum formula\n",
    "    for n in range (N):\n",
    "        for k in range (N):\n",
    "            if n >= k:\n",
    "                 y[n] = y[n]+f[n-k]*g[k]\n",
    "                    \n",
    "    return y\n",
    "\n",
    "f = [ 0,  0,  1,  1,  0, 0 ]\n",
    "g = [ 1, -1,  0,  0, -1, 1 ]\n",
    "\n",
    "conv_out = direct_conv(f,g)\n",
    "print(conv_out)"
   ]
  },
  {
   "cell_type": "code",
   "execution_count": 8,
   "metadata": {},
   "outputs": [
    {
     "name": "stdout",
     "output_type": "stream",
     "text": [
      "[ 0  0  1  0 -1  0 -1  0  1  0  0]\n"
     ]
    }
   ],
   "source": [
    "#Using Scipy conv function for convolving 2 signals\n",
    "from scipy import signal\n",
    "\n",
    "scipy_conv_out = signal.convolve(f, g, mode='full') \n",
    "print(scipy_conv_out)"
   ]
  },
  {
   "cell_type": "code",
   "execution_count": 9,
   "metadata": {},
   "outputs": [
    {
     "data": {
      "image/png": "[encoded data removed]",
      "text/plain": [
       "<Figure size 432x288 with 1 Axes>"
      ]
     },
     "metadata": {
      "needs_background": "light"
     },
     "output_type": "display_data"
    }
   ],
   "source": [
    "# Let's do some basic siganl processing\n",
    "\n",
    "\n",
    "# Design a python function which takes Natural frequency (f), Sampling frequency (Fs), and time(t) to generate\n",
    "# a sinusoidal signal and plots the signal using matplotlib\n",
    "\n",
    "# Hint - use np.sin()\n",
    "\n",
    "# Also, make sure you lable the x and y axes of your plots!\n",
    "\n",
    "# Bonus: Try to design the function such that if you do not supply any inputs, it should use default values of \n",
    "# f = 10 Hz, Fs = 44.1 kHz and t = 0.5 secs\n",
    "\n",
    "def Sinusoid(f, Fs, t):\n",
    "    \n",
    "    T = 1/Fs                # sampling period\n",
    "    N = Fs*t                # Total No.of points in the signal\n",
    "    omega = 2*np.pi*f    # angular frequency for sine waves\n",
    "    \n",
    "    t_vec = np.arange(N)*T  # time vector for plotting\n",
    "    y = np.sin(omega*t_vec)\n",
    "    \n",
    "    plt.plot(t_vec,y)\n",
    "    plt.ylabel('Amplitude')\n",
    "    plt.xlabel('time [s]')\n",
    "    plt.show()\n",
    "    \n",
    "    return y\n",
    "    \n",
    "\n",
    "# Signal params\n",
    "f = 5      # 50 Hz Natural freq\n",
    "Fs = 44100  # Sampling freq \n",
    "t = 1      # seconds of sampling\n",
    "\n",
    "sig = Sinusoid(f, Fs, t)\n",
    "\n",
    "\n",
    "\n"
   ]
  },
  {
   "cell_type": "code",
   "execution_count": 10,
   "metadata": {},
   "outputs": [
    {
     "data": {
      "image/png": "[encoded data removed]",
      "text/plain": [
       "<Figure size 432x288 with 1 Axes>"
      ]
     },
     "metadata": {
      "needs_background": "light"
     },
     "output_type": "display_data"
    }
   ],
   "source": [
    "# fourier transform and frequency domain\n",
    "\n",
    "# Now, use the sinusoid generated from the previous exercise and design a function to compute the FFT of the signal\n",
    "# using \" np.fft.fft()\" function and plot the magnitude response using pyplot on a log scale\n",
    " \n",
    "# Note that the FFT gives u a double sided spectrum (i.e - N/2 to N/2),but we only \n",
    "# need one side of it ( i.e 0 to N/2)\n",
    "\n",
    "\n",
    "def FFT_func(y, N):\n",
    "    Y_k = np.fft.fft(y)[0:int(N/2)]/N  # FFT function from numpy\n",
    "    Y_k[1:] = 2*Y_k[1:]                # need to take the single-sided spectrum only\n",
    "    Pxx = np.abs(Y_k)                  # be sure to get rid of imaginary part\n",
    "    f = Fs*np.arange((N/2))/N;         # frequency vector for plotting\n",
    "    \n",
    "    # plotting\n",
    "    fig,ax = plt.subplots()\n",
    "    plt.plot(f,Pxx,linewidth=2)\n",
    "    ax.set_xscale('log')\n",
    "    ax.set_yscale('log')\n",
    "    plt.ylabel('Amplitude')\n",
    "    plt.xlabel('Frequency [Hz]')\n",
    "    plt.show()\n",
    "    \n",
    "N = Fs*t       \n",
    "FFT_func(sig, N)"
   ]
  },
  {
   "cell_type": "code",
   "execution_count": 11,
   "metadata": {},
   "outputs": [],
   "source": [
    "# Saving your signals in audio files (.wav)\n",
    "\n",
    "\n",
    "import wave, struct\n",
    "\n",
    "file = \"sine.wav\"\n",
    "\n",
    "# saving paramaters\n",
    "nframes   =  N\n",
    "comptype  = \"NONE\"\n",
    "compname  = \"not compressed\"\n",
    "nchannels =  1\n",
    "sampwidth =  2 \n",
    "\n",
    "wav_file=wave.open(file, 'w')\n",
    "wav_file.setparams((nchannels, sampwidth, int(Fs), nframes, comptype, compname))\n",
    "\n",
    "amplitude = 10000  # multiplying with a fixed constant to boos the volume of the signal\n",
    "\n",
    "for s in sig:\n",
    "   wav_file.writeframes(struct.pack('h', int(s*amplitude))) \n",
    "   # In this step, we multiply each sample with the amplitude to convert the floating point\n",
    "   # sinusoid to a fixed point sinusoid\n",
    "\n"
   ]
  },
  {
   "cell_type": "code",
   "execution_count": null,
   "metadata": {},
   "outputs": [],
   "source": []
  }
 ],
 "metadata": {
  "kernelspec": {
   "display_name": "Python 3",
   "language": "python",
   "name": "python3"
  },
  "language_info": {
   "codemirror_mode": {
    "name": "ipython",
    "version": 3
   },
   "file_extension": ".py",
   "mimetype": "text/x-python",
   "name": "python",
   "nbconvert_exporter": "python",
   "pygments_lexer": "ipython3",
   "version": "3.6.9"
  }
 },
 "nbformat": 4,
 "nbformat_minor": 4
}