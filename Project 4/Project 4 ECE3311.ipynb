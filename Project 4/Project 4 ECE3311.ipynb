{
 "metadata": {
  "language_info": {
   "codemirror_mode": {
    "name": "ipython",
    "version": 3
   },
   "file_extension": ".py",
   "mimetype": "text/x-python",
   "name": "python",
   "nbconvert_exporter": "python",
   "pygments_lexer": "ipython3",
   "version": 3
  },
  "orig_nbformat": 2
 },
 "nbformat": 4,
 "nbformat_minor": 2,
 "cells": [
  {
   "source": [
    "# Project 4\n",
    "\n",
    "## ECE3311 \"Principles of Communication Systems\" (B-Term 2020)\n",
    "\n",
    "## Python Scripts"
   ],
   "cell_type": "markdown",
   "metadata": {}
  },
  {
   "cell_type": "code",
   "execution_count": null,
   "metadata": {},
   "outputs": [],
   "source": [
    "# Remember to install GNU Radio on your workstation using \"sudo apt install gnuradio\"\n",
    "from gnuradio import gr, digital, filter\n",
    "from gnuradio import blocks\n",
    "from gnuradio import channels\n",
    "from gnuradio import eng_notation\n",
    "from gnuradio.eng_arg import eng_float, intx\n",
    "import sys\n",
    "import numpy as np\n",
    "import math\n",
    "import matplotlib.pyplot as plt"
   ]
  },
  {
   "source": [
    "# Section 4: Basic Experimentation"
   ],
   "cell_type": "markdown",
   "metadata": {}
  },
  {
   "cell_type": "code",
   "execution_count": null,
   "metadata": {},
   "outputs": [],
   "source": [
    "# Generate the mapping from binary to complex baseband representations for QPSK (also graph signal constellation diagram)\n",
    "\n",
    "bps = 2 # bits per symbol 2 - QPSK, 4 - 16QAM, 6 - 64QAM\n",
    "total_qpsk_symbols = 1000*bps\n",
    "mapping_table = {\n",
    "    (1,0) : -1-1j,\n",
    "    (1,1) : -1+1j,\n",
    "    (0,0) :  1-1j,\n",
    "    (0,1) :  1+1j\n",
    "}\n",
    "plt.figure(figsize=(15,10))\n",
    "for b1 in [0, 1]:\n",
    "    for b0 in [0, 1]:\n",
    "        B = (b1, b0)\n",
    "        Q = mapping_table[B]\n",
    "        plt.plot(Q.real, Q.imag, 'bo', markersize=16)\n",
    "        plt.text(Q.real, Q.imag+0.2, \"\".join(str(x) for x in B), ha='center', fontsize=22)\n",
    "\n",
    "plt.grid()\n",
    "plt.show()"
   ]
  },
  {
   "cell_type": "code",
   "execution_count": null,
   "metadata": {},
   "outputs": [],
   "source": [
    "# Generate binary data stream and map it to QPSK symbols\n",
    "\n",
    "bits = np.random.binomial(n=1, p=0.5, size=(total_qpsk_symbols, ))\n",
    "def packing(bits):\n",
    "    return bits.reshape((1000, bps))\n",
    "bits_packed = packing(bits)\n",
    "def Mapping(bits):\n",
    "    return np.array([mapping_table[tuple(b)] for b in bits])\n",
    "QAM = Mapping(bits_packed)"
   ]
  },
  {
   "cell_type": "code",
   "execution_count": null,
   "metadata": {},
   "outputs": [],
   "source": [
    "# Costas Loop implementation using GNU Radio code\n",
    "# This code should be used as a template for the rest of this project\n",
    "\n",
    "phaseoffset=0.89 # Defining constant phase offset for this section of the project\n",
    "data = np.exp(1j*phaseoffset) * QAM\n",
    "\n",
    "tb = gr.top_block() # Calling on GNU Radio top block model\n",
    "src = blocks.vector_source_c(data.tolist(), False)\n",
    "noise = 0.15\n",
    "foffset = 0.0\n",
    "toffset = 1.0\n",
    "chn = channels.channel_model(noise, foffset, toffset)\n",
    "chn1 = channels.channel_model(noise, foffset, toffset)\n",
    "\n",
    "# Define Costas Loop parameters\n",
    "bw = 2*np.pi/100  # Loop bandwidth W_L\n",
    "M = 4 # Modulation order (in this case, it is QPSK)\n",
    "df = 0.5 # Damping factor \\zeta\n",
    "\n",
    "# Calling GNU Radio block for Costas Loop\n",
    "cst = digital.costas_loop_cc(bw, M)\n",
    "cst.set_damping_factor(df)\n",
    "sink = blocks.vector_sink_c()  # Output of Costas Loop (phase compensated)\n",
    "sinkrx = blocks.vector_sink_c() # Input to Costas Loop (corrupted signal)\n",
    "sinkfreq = blocks.vector_sink_f()\n",
    "sinkphase = blocks.vector_sink_f()\n",
    "sinkerror = blocks.vector_sink_f()\n",
    "tb.connect(src,chn,cst, sink)\n",
    "tb.connect(src,chn1, sinkrx)\n",
    "tb.connect((cst,1),sinkfreq) # Costas Loop frequency output\n",
    "tb.connect((cst,2),sinkphase) # Costas Loop phase output\n",
    "tb.connect((cst,3),sinkerror) # Costas Loop error output\n",
    "tb.run()\n",
    "tb.stop()\n",
    "out = np.array(sink.data())\n",
    "rxsig = np.array(sinkrx.data())\n",
    "error = np.array(sinkerror.data())\n",
    "\n",
    "# Produce signal constellation diagram showing difference between \n",
    "# phase corrupted received data and compensated recovered data via Costas Loop\n",
    "plt.figure(figsize=(15,10))\n",
    "plt.plot(rxsig.real, rxsig.imag, 'rx', markersize=12, label='Received Data')\n",
    "plt.plot(out.real, out.imag, 'bo', markersize=12, label='Recovered Data')\n",
    "plt.legend(fontsize=20)\n",
    "plt.title('Constant Phase-offset', fontsize=22)\n",
    "plt.grid(True)"
   ]
  },
  {
   "cell_type": "code",
   "execution_count": null,
   "metadata": {},
   "outputs": [],
   "source": [
    "# Phase error convergence plot\n",
    "plt.figure(figsize=(15,10))\n",
    "plt.plot(error)\n",
    "plt.title('Costas Loop Error Convergence', fontsize=22)\n",
    "plt.grid(True)"
   ]
  },
  {
   "source": [
    "# Section 5: Time-Varying Phase"
   ],
   "cell_type": "markdown",
   "metadata": {}
  },
  {
   "cell_type": "code",
   "execution_count": null,
   "metadata": {},
   "outputs": [],
   "source": [
    "# Time-varying phase scenario 1: linearly increasing phase\n",
    "#\n",
    "# Only the phase values as a function of time are provided\n",
    "# Please use example code from Section 4 to implement Costas Loop\n",
    "\n",
    "phaseoffset=np.linspace(0, 0.85,len(QAM))\n",
    "data = np.exp(1j*phaseoffset) * QAM"
   ]
  },
  {
   "cell_type": "code",
   "execution_count": null,
   "metadata": {},
   "outputs": [],
   "source": [
    "# Time-varying phase scenario 2: unit step function phase change\n",
    "#\n",
    "# Only the phase values as a function of time are provided\n",
    "# Please use example code from Section 4 to implement Costas Loop\n",
    "\n",
    "phaseoffset0 = [-0.5]*500\n",
    "phaseoffset1 =[0.5]*500\n",
    "phaseoffset = np.append(phaseoffset0, phaseoffset1, axis=0)\n",
    "data = np.exp(1j*phaseoffset) * QAM"
   ]
  },
  {
   "cell_type": "code",
   "execution_count": null,
   "metadata": {},
   "outputs": [],
   "source": [
    "# Time-varying phase scenario 3: sine function phase variation\n",
    "#\n",
    "# Only the phase values as a function of time are provided\n",
    "# Please use example code from Section 4 to implement Costas Loop\n",
    "\n",
    "phaseoffset = np.sin(np.linspace(-np.pi,np.pi,len(QAM)))\n",
    "data = np.exp(1j*phaseoffset) * QAM"
   ]
  },
  {
   "source": [
    "# Section 6: Mystery Signal Constellations"
   ],
   "cell_type": "markdown",
   "metadata": {}
  },
  {
   "cell_type": "code",
   "execution_count": null,
   "metadata": {},
   "outputs": [],
   "source": [
    "# Mystery signal 1\n",
    "#\n",
    "# There are 1000 symbols that either belong to BPSK, QPSK, or 8PSK\n",
    "# Need to find appropriate loop filter bandwidth W_L and damping factor \\zeta to obtain phase lock\n",
    "# Use example code from Section 4\n",
    "\n",
    "mysterysignal1=np.load('mysterysignal1') # Load mystery signal 1 data from .npy file"
   ]
  },
  {
   "cell_type": "code",
   "execution_count": null,
   "metadata": {},
   "outputs": [],
   "source": [
    "# Mystery signal 2\n",
    "#\n",
    "# There are 1000 symbols that either belong to BPSK, QPSK, or 8PSK\n",
    "# Need to find appropriate loop filter bandwidth W_L and damping factor \\zeta to obtain phase lock\n",
    "# Use example code from Section 4\n",
    "\n",
    "mysterysignal2=np.load('mysterysignal2') # Load mystery signal 2 data from .npy file"
   ]
  },
  {
   "cell_type": "code",
   "execution_count": null,
   "metadata": {},
   "outputs": [],
   "source": [
    "# Mystery signal 3\n",
    "#\n",
    "# There are 1000 symbols that either belong to BPSK, QPSK, or 8PSK\n",
    "# Need to find appropriate loop filter bandwidth W_L and damping factor \\zeta to obtain phase lock\n",
    "# Use example code from Section 4\n",
    "\n",
    "mysterysignal3=np.load('mysterysignal3') # Load mystery signal 3 data from .npy file"
   ]
  }
 ]
}